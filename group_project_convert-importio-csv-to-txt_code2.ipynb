{
 "cells": [
  {
   "cell_type": "markdown",
   "metadata": {},
   "source": [
    "# Convert ImportIO CSV file to TXT file Corpus\n",
    "\n",
    "This notebook will take an CSV from import.io and output txt files for every row with readable filenames.\n",
    "\n",
    "The CSV reading is based on code from https://thispointer.com/python-read-a-csv-file-line-by-line-with-or-without-header/ - consult this if you want explanation.\n",
    "\n",
    "Tested on DIGI405's JupyterHub.\n",
    "\n",
    "## Before you run the code!\n",
    "\n",
    "1. Create a new directory on JupyterHub and upload the notebook and the CSV file to this directory.\n",
    "2. Change the value of csv_file to the name of your CSV file (or rename file to \"importio.csv\").\n",
    "3. Create a directory called 'corpus'.\n",
    "4. Adjust the name of the column_name_for_title and column_name_for_text to whatever they need to be for your CSV file's columns\n",
    "\n",
    "Post any problems to the forum (likely problems are related to encoding or not following the instructions above)."
   ]
  },
  {
   "cell_type": "code",
   "execution_count": 16,
   "metadata": {},
   "outputs": [],
   "source": [
    "from csv import DictReader\n",
    "import zipfile\n",
    "import os"
   ]
  },
  {
   "cell_type": "code",
   "execution_count": 17,
   "metadata": {},
   "outputs": [],
   "source": [
    "csv_file = 'search_result_list.csv'"
   ]
  },
  {
   "cell_type": "code",
   "execution_count": 18,
   "metadata": {},
   "outputs": [],
   "source": [
    "output_directory = 'corpus/'"
   ]
  },
  {
   "cell_type": "code",
   "execution_count": 19,
   "metadata": {},
   "outputs": [],
   "source": [
    "zip_filename = 'corpus.zip'"
   ]
  },
  {
   "cell_type": "code",
   "execution_count": 20,
   "metadata": {},
   "outputs": [],
   "source": [
    "column_name_for_title = 'title'\n",
    "column_name_for_text = 'news_text'"
   ]
  },
  {
   "cell_type": "code",
   "execution_count": 21,
   "metadata": {},
   "outputs": [],
   "source": [
    "# define a function to convert URL to readable string that should be file system safe\n",
    "def url_to_filename(url):\n",
    "    url = url.replace('https://', '').replace('http://', '')\n",
    "    safe = []\n",
    "    for x in url:\n",
    "        if x.isalnum():\n",
    "            safe.append(x)\n",
    "        else:\n",
    "            safe.append('-')\n",
    "    filename = \"\".join(safe)\n",
    "\n",
    "    if len(filename) > 200: #prevent filenames over 200 - note this could create a conflict of filenames so check        \n",
    "        filename = filename[:100] + '___' + filename[-100:]\n",
    "    \n",
    "    return filename\n",
    "\n",
    "# adapted from https://stackoverflow.com/questions/1855095/how-to-create-a-zip-archive-of-a-directory-in-python\n",
    "def zipdir(path, zip_filename):\n",
    "    ziph = zipfile.ZipFile(zip_filename, 'w', zipfile.ZIP_DEFLATED)\n",
    "\n",
    "    # ziph is zipfile handle\n",
    "    for root, dirs, files in os.walk(path):\n",
    "        for file in files:\n",
    "            ziph.write(os.path.join(root, file))\n",
    "            \n",
    "    ziph.close()"
   ]
  },
  {
   "cell_type": "code",
   "execution_count": 22,
   "metadata": {},
   "outputs": [
    {
     "ename": "KeyError",
     "evalue": "'url'",
     "output_type": "error",
     "traceback": [
      "\u001b[0;31m---------------------------------------------------------------------------\u001b[0m",
      "\u001b[0;31mKeyError\u001b[0m                                  Traceback (most recent call last)",
      "Cell \u001b[0;32mIn[22], line 9\u001b[0m\n\u001b[1;32m      7\u001b[0m \u001b[38;5;66;03m# iterate over each line as a ordered dictionary\u001b[39;00m\n\u001b[1;32m      8\u001b[0m \u001b[38;5;28;01mfor\u001b[39;00m row \u001b[38;5;129;01min\u001b[39;00m csv_dict_reader:\n\u001b[0;32m----> 9\u001b[0m     output_filename \u001b[38;5;241m=\u001b[39m url_to_filename(\u001b[43mrow\u001b[49m\u001b[43m[\u001b[49m\u001b[38;5;124;43m'\u001b[39;49m\u001b[38;5;124;43murl\u001b[39;49m\u001b[38;5;124;43m'\u001b[39;49m\u001b[43m]\u001b[49m) \u001b[38;5;241m+\u001b[39m \u001b[38;5;124m'\u001b[39m\u001b[38;5;124m.txt\u001b[39m\u001b[38;5;124m'\u001b[39m\n\u001b[1;32m     10\u001b[0m     \u001b[38;5;28mprint\u001b[39m(\u001b[38;5;124m'\u001b[39m\u001b[38;5;124mExporting\u001b[39m\u001b[38;5;124m'\u001b[39m,row[\u001b[38;5;124m'\u001b[39m\u001b[38;5;124murl\u001b[39m\u001b[38;5;124m'\u001b[39m])\n\u001b[1;32m     11\u001b[0m     \u001b[38;5;28;01mwith\u001b[39;00m \u001b[38;5;28mopen\u001b[39m(output_directory \u001b[38;5;241m+\u001b[39m output_filename, \u001b[38;5;124m'\u001b[39m\u001b[38;5;124mw\u001b[39m\u001b[38;5;124m'\u001b[39m, encoding \u001b[38;5;241m=\u001b[39m \u001b[38;5;124m'\u001b[39m\u001b[38;5;124mutf-8\u001b[39m\u001b[38;5;124m'\u001b[39m) \u001b[38;5;28;01mas\u001b[39;00m f:\n",
      "\u001b[0;31mKeyError\u001b[0m: 'url'"
     ]
    }
   ],
   "source": [
    "# this cell writes txt files for every row to a directory corpus\n",
    "\n",
    "# read the CSV file\n",
    "with open(csv_file, 'r', encoding='utf-8-sig') as read_obj:\n",
    "    # pass the file object to DictReader() to get the DictReader object\n",
    "    csv_dict_reader = DictReader(read_obj)\n",
    "    # iterate over each line as a ordered dictionary\n",
    "    for row in csv_dict_reader:\n",
    "        output_filename = url_to_filename(row['url']) + '.txt'\n",
    "        print('Exporting',row['url'])\n",
    "        with open(output_directory + output_filename, 'w', encoding = 'utf-8') as f:\n",
    "            f.write(row[column_name_for_title] + '\\n' + row[column_name_for_text])"
   ]
  },
  {
   "cell_type": "code",
   "execution_count": 23,
   "metadata": {},
   "outputs": [],
   "source": [
    "# zips the txt files so you can download them easily\n",
    "zipdir(output_directory, zip_filename)"
   ]
  },
  {
   "cell_type": "markdown",
   "metadata": {},
   "source": [
    "NOTE: look in the directory with your notebook for the zipped corpus file. Don't click on it in JupyterHub to download it. Cl"
   ]
  }
 ],
 "metadata": {
  "kernelspec": {
   "display_name": "Python 3 (ipykernel)",
   "language": "python",
   "name": "python3"
  },
  "language_info": {
   "codemirror_mode": {
    "name": "ipython",
    "version": 3
   },
   "file_extension": ".py",
   "mimetype": "text/x-python",
   "name": "python",
   "nbconvert_exporter": "python",
   "pygments_lexer": "ipython3",
   "version": "3.8.17"
  }
 },
 "nbformat": 4,
 "nbformat_minor": 4
}
